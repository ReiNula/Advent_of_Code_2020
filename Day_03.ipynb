{
 "cells": [
  {
   "cell_type": "code",
   "execution_count": 1,
   "metadata": {},
   "outputs": [],
   "source": [
    "with open(\"day_three.txt\", 'r') as f:\n",
    "    puzzle = f.read()\n",
    "    puzzle = puzzle.splitlines()"
   ]
  },
  {
   "cell_type": "code",
   "execution_count": 2,
   "metadata": {},
   "outputs": [],
   "source": [
    "def slide(puzzle, stepx, stepy):\n",
    "    i = 0\n",
    "    nb_tree = 0\n",
    "    for y in range(0, len(puzzle), stepy):\n",
    "        row = puzzle[y]\n",
    "        if row[i] == \"#\":\n",
    "            nb_tree += 1\n",
    "        i += stepx\n",
    "        if i > len(row) - 1:\n",
    "            i = i % len(row)\n",
    "    return nb_tree"
   ]
  },
  {
   "cell_type": "code",
   "execution_count": 3,
   "metadata": {},
   "outputs": [
    {
     "data": {
      "text/plain": [
       "278"
      ]
     },
     "execution_count": 3,
     "metadata": {},
     "output_type": "execute_result"
    }
   ],
   "source": [
    "slide(puzzle, 3, 1)"
   ]
  },
  {
   "cell_type": "code",
   "execution_count": 4,
   "metadata": {},
   "outputs": [
    {
     "name": "stdout",
     "output_type": "stream",
     "text": [
      "9709761600\n"
     ]
    }
   ],
   "source": [
    "slides = [[1, 1], [3, 1], [5, 1], [7, 1], [1, 2]]\n",
    "result = 1\n",
    "for stepx, stepy in slides:\n",
    "    result = slide(puzzle, stepx, stepy) * result\n",
    "print(result)"
   ]
  }
 ],
 "metadata": {
  "kernelspec": {
   "display_name": "Python 3.8.1 64-bit",
   "language": "python",
   "name": "python38164bit9d37f5cb24044b1a867c869d5e8fdf89"
  },
  "language_info": {
   "codemirror_mode": {
    "name": "ipython",
    "version": 3
   },
   "file_extension": ".py",
   "mimetype": "text/x-python",
   "name": "python",
   "nbconvert_exporter": "python",
   "pygments_lexer": "ipython3",
   "version": "3.8.5"
  }
 },
 "nbformat": 4,
 "nbformat_minor": 4
}
