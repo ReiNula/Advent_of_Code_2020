{
 "cells": [
  {
   "cell_type": "code",
   "execution_count": 1,
   "metadata": {},
   "outputs": [],
   "source": [
    "with open(\"day_five\", 'r') as f:\n",
    "    puzzle = f.read()\n",
    "    puzzle = puzzle.splitlines()"
   ]
  },
  {
   "cell_type": "code",
   "execution_count": 2,
   "metadata": {},
   "outputs": [],
   "source": [
    "def lower_half(value_min, value_max):\n",
    "    return value_max - (value_max - value_min) // 2 - 1\n",
    "                \n",
    "def upper_half(value_min, value_max):\n",
    "    return value_max - (value_max - value_min) // 2\n",
    "\n",
    "def convert(puzzle):\n",
    "    seats = []\n",
    "    for seat in puzzle:\n",
    "        row_min = 0\n",
    "        row_max = 127\n",
    "        column_min = 0\n",
    "        column_max = 7\n",
    "        back_front = seat[:7]\n",
    "        left_right = seat[7:]\n",
    "        for instruction in back_front:\n",
    "            if instruction == 'F':\n",
    "                row_max = lower_half(row_min, row_max)\n",
    "            if instruction == 'B':\n",
    "                row_min = upper_half(row_min, row_max)\n",
    "        row = row_min\n",
    "        for instruction in left_right:\n",
    "            if instruction == 'L':\n",
    "                column_max = lower_half(column_min, column_max)\n",
    "            if instruction == 'R':\n",
    "                column_min = upper_half(column_min, column_max)\n",
    "        column = column_min\n",
    "        seat = row * 8 + column\n",
    "        seats.append(seat)\n",
    "    return seats"
   ]
  },
  {
   "cell_type": "code",
   "execution_count": 3,
   "metadata": {},
   "outputs": [
    {
     "data": {
      "text/plain": [
       "922"
      ]
     },
     "execution_count": 3,
     "metadata": {},
     "output_type": "execute_result"
    }
   ],
   "source": [
    "max(convert(puzzle))"
   ]
  },
  {
   "cell_type": "code",
   "execution_count": 4,
   "metadata": {},
   "outputs": [
    {
     "data": {
      "text/plain": [
       "747"
      ]
     },
     "execution_count": 4,
     "metadata": {},
     "output_type": "execute_result"
    }
   ],
   "source": [
    "value_max = max(convert(puzzle))\n",
    "value_min = min(convert(puzzle))\n",
    "sum(range(value_min, value_max + 1)) - sum(convert(puzzle))"
   ]
  }
 ],
 "metadata": {
  "kernelspec": {
   "display_name": "Python 3.8.1 64-bit",
   "language": "python",
   "name": "python38164bit9d37f5cb24044b1a867c869d5e8fdf89"
  },
  "language_info": {
   "codemirror_mode": {
    "name": "ipython",
    "version": 3
   },
   "file_extension": ".py",
   "mimetype": "text/x-python",
   "name": "python",
   "nbconvert_exporter": "python",
   "pygments_lexer": "ipython3",
   "version": "3.8.5"
  }
 },
 "nbformat": 4,
 "nbformat_minor": 4
}
