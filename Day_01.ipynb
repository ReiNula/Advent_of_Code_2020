{
 "cells": [
  {
   "cell_type": "code",
   "execution_count": 50,
   "metadata": {},
   "outputs": [],
   "source": [
    "puzzle = [1714, 1960, 1256, 1597, 1853, 1609, 1936, 2003, 1648, 1903, 1248, 1525, 1330, 1281, 1573, 1892, 1563, 1500, 1858, 176, 1802, 1370, 1708, 1453, 1342, 1830, 1580, 1607, 1848, 1626, \n",
    "          1602, 1919, 1640, 1574, 1414, 766, 1581, 1924, 1727, 1949, 1406, 323, 957, 1862, 1354, 1427, 1583, 1067, 1863, 1553, 1923, 1990, 691, 1372, 1357, 1887, 1485, 1799, 1270, 1743, 1601, \n",
    "          1457, 1723, 1888, 1272, 1600, 1880, 1381, 1413, 1452, 277, 1866, 1542, 1693, 1760, 1637, 1675, 1975, 1304, 1327, 1985, 1842, 1255, 1915, 1266, 1944, 1824, 1770, 1392, 1259, 1313, 1547, \n",
    "          1293, 1393, 1896, 1828, 1642, 1979, 1871, 1502, 1548, 1508, 710, 1786, 1845, 1334, 1362, 1940, 2009, 1271, 1448, 1964, 1676, 1654, 1804, 1835, 1910, 1939, 1298, 1572, 1704, 1841, 1399, \n",
    "          1576, 1164, 1868, 1035, 262, 1569, 1639, 1669, 1543, 1616, 1658, 1750, 1765, 1718, 1861, 1351, 1531, 1665, 1771, 1348, 1289, 875, 1408, 1486, 1275, 1625, 1594, 1816, 704, 1800, 1564, \n",
    "          1291, 1234, 1981, 1843, 1387, 1938, 1827, 1883, 1911, 1755, 1353, 1808, 1498, 1416, 2006, 1916, 1411, 1539, 1963, 1874, 1898, 1951, 1292, 1366, 1912, 1369, 1478, 1359, 1859, 1421, 1384, \n",
    "          1534, 1283, 1913, 1794, 1494, 1860, 1312, 1869, 1730, 1510, 1319, 1428, 1706, 1432, 1532]"
   ]
  },
  {
   "cell_type": "code",
   "execution_count": 51,
   "metadata": {},
   "outputs": [],
   "source": [
    "def solvepart1(puzzle):\n",
    "    for entry_one in puzzle:\n",
    "        entry_two = 2020 - entry_one\n",
    "        if entry_two in puzzle:\n",
    "            answer =  entry_one * entry_two\n",
    "            return answer\n",
    "        else:\n",
    "            continue"
   ]
  },
  {
   "cell_type": "code",
   "execution_count": 52,
   "metadata": {},
   "outputs": [],
   "source": [
    "def solvepart2(puzzle):\n",
    "    for entry_one in puzzle:\n",
    "        for entry_two in puzzle:\n",
    "            if entry_one != entry_two and (entry_one + entry_two) < 2020:\n",
    "                for entry_three in puzzle:\n",
    "                    if entry_three != entry_one and entry_three != entry_two:\n",
    "                        result = entry_three + entry_one + entry_two\n",
    "                        if result == 2020:\n",
    "                            answer = entry_one * entry_two * entry_three\n",
    "                            return answer"
   ]
  },
  {
   "cell_type": "code",
   "execution_count": 53,
   "metadata": {},
   "outputs": [
    {
     "data": {
      "text/plain": [
       "482811"
      ]
     },
     "execution_count": 53,
     "metadata": {},
     "output_type": "execute_result"
    }
   ],
   "source": [
    "solvepart1(puzzle)"
   ]
  },
  {
   "cell_type": "code",
   "execution_count": 54,
   "metadata": {},
   "outputs": [
    {
     "data": {
      "text/plain": [
       "193171814"
      ]
     },
     "execution_count": 54,
     "metadata": {},
     "output_type": "execute_result"
    }
   ],
   "source": [
    "solvepart2(puzzle)"
   ]
  }
 ],
 "metadata": {
  "kernelspec": {
   "display_name": "Python 3.8.1 64-bit",
   "language": "python",
   "name": "python38164bit9d37f5cb24044b1a867c869d5e8fdf89"
  },
  "language_info": {
   "codemirror_mode": {
    "name": "ipython",
    "version": 3
   },
   "file_extension": ".py",
   "mimetype": "text/x-python",
   "name": "python",
   "nbconvert_exporter": "python",
   "pygments_lexer": "ipython3",
   "version": "3.8.5"
  }
 },
 "nbformat": 4,
 "nbformat_minor": 4
}
