{
 "cells": [
  {
   "cell_type": "code",
   "execution_count": 1,
   "metadata": {},
   "outputs": [],
   "source": [
    "with open('day_two', 'r') as f:\n",
    "    puzzle = f.read()\n",
    "    puzzle = puzzle.splitlines()"
   ]
  },
  {
   "cell_type": "code",
   "execution_count": 2,
   "metadata": {},
   "outputs": [],
   "source": [
    "def check_valid_count(puzzle):\n",
    "    valid_password = 0\n",
    "    for password in puzzle:\n",
    "        sep1 = password.split('-')\n",
    "        v_min = int(sep1[0])\n",
    "        sep2 = sep1[1].split()\n",
    "        v_max = int(sep2[0])\n",
    "        passw = sep2[2]\n",
    "        sep3 = sep2[1].split(':')\n",
    "        given_letter = sep3[0]\n",
    "        count = passw.count(given_letter)\n",
    "        if count >= v_min and count <= v_max:\n",
    "            valid_password += 1\n",
    "    return valid_password"
   ]
  },
  {
   "cell_type": "code",
   "execution_count": 3,
   "metadata": {},
   "outputs": [],
   "source": [
    "def check_valid_position(puzzle):\n",
    "    valid_password = 0\n",
    "    for password in puzzle:\n",
    "        sep1 = password.split('-')\n",
    "        v_min = int(sep1[0])\n",
    "        sep2 = sep1[1].split()\n",
    "        v_max = int(sep2[0])\n",
    "        passw = sep2[2]\n",
    "        sep3 = sep2[1].split(':')\n",
    "        given_letter = sep3[0]\n",
    "        if (given_letter == passw[v_min-1] and given_letter != passw[v_max-1]) or (given_letter != passw[v_min-1] and given_letter == passw[v_max-1]):\n",
    "            valid_password += 1\n",
    "    return valid_password"
   ]
  },
  {
   "cell_type": "code",
   "execution_count": 4,
   "metadata": {},
   "outputs": [
    {
     "data": {
      "text/plain": [
       "469"
      ]
     },
     "execution_count": 4,
     "metadata": {},
     "output_type": "execute_result"
    }
   ],
   "source": [
    "check_valid_count(puzzle)"
   ]
  },
  {
   "cell_type": "code",
   "execution_count": 5,
   "metadata": {},
   "outputs": [
    {
     "data": {
      "text/plain": [
       "267"
      ]
     },
     "execution_count": 5,
     "metadata": {},
     "output_type": "execute_result"
    }
   ],
   "source": [
    "check_valid_position(puzzle)"
   ]
  }
 ],
 "metadata": {
  "kernelspec": {
   "display_name": "Python 3.8.1 64-bit",
   "language": "python",
   "name": "python38164bit9d37f5cb24044b1a867c869d5e8fdf89"
  },
  "language_info": {
   "codemirror_mode": {
    "name": "ipython",
    "version": 3
   },
   "file_extension": ".py",
   "mimetype": "text/x-python",
   "name": "python",
   "nbconvert_exporter": "python",
   "pygments_lexer": "ipython3",
   "version": "3.8.5"
  }
 },
 "nbformat": 4,
 "nbformat_minor": 4
}
