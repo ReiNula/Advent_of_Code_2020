{
 "cells": [
  {
   "cell_type": "code",
   "execution_count": 1,
   "metadata": {},
   "outputs": [],
   "source": [
    "with open(\"day_four\", 'r') as f:\n",
    "    puzzle = f.read()\n",
    "    puzzle = puzzle.split(\"\\n\\n\")"
   ]
  },
  {
   "cell_type": "code",
   "execution_count": 2,
   "metadata": {},
   "outputs": [],
   "source": [
    "def field_is_valid(field, value):\n",
    "    eyes_color = ('amb', 'blu', 'brn', 'gry', 'grn', 'hzl', 'oth')\n",
    "    hcl_hexa = '0123456789abcdef'\n",
    "    if field == 'byr':\n",
    "        return '1920' <= value <= '2002'\n",
    "    if field == 'iyr':\n",
    "        return '2010' <= value <= '2020'\n",
    "    if field == 'eyr':\n",
    "        return '2020'  <= value <= '2030'\n",
    "    if field == 'ecl':\n",
    "        return value in eyes_color\n",
    "    if field == 'pid':\n",
    "        return len(value) == 9 and value.isdigit()\n",
    "    if field == 'hgt':\n",
    "        if value.find('cm') == -1 and value.find('in') == -1:\n",
    "            return False\n",
    "        if value.find('cm') >= 0:\n",
    "            height_value, height_me = value.split('cm')\n",
    "            return '150' <= height_value <= '193'\n",
    "        elif value.find('in') >= 0:\n",
    "            height_value, height_me = value.split('in')\n",
    "            return '59' <= height_value <= '76'\n",
    "    if field == 'hcl':\n",
    "        if value[0] != '#' or len(value) != 7:\n",
    "            return False\n",
    "        return all(char in hcl_hexa for char in value[1:])\n",
    "\n",
    "def checking_passport(puzzle, checking_value=False):\n",
    "    required_fields = {'byr', 'iyr', 'eyr', 'hgt', 'hcl', 'ecl', 'pid'}\n",
    "    valid_passports = 0\n",
    "    for passport in puzzle:\n",
    "        fields = set()\n",
    "        items_to_check = passport.split()\n",
    "        for item in items_to_check:\n",
    "            field, value = item.split(\":\")\n",
    "            if field == 'cid':\n",
    "                continue\n",
    "            if not checking_value or field_is_valid(field, value):\n",
    "                fields.add(field)\n",
    "        if fields == required_fields:\n",
    "            valid_passports += 1\n",
    "    return valid_passports"
   ]
  },
  {
   "cell_type": "code",
   "execution_count": 3,
   "metadata": {},
   "outputs": [
    {
     "data": {
      "text/plain": [
       "230"
      ]
     },
     "execution_count": 3,
     "metadata": {},
     "output_type": "execute_result"
    }
   ],
   "source": [
    "checking_passport(puzzle, checking_value=False)"
   ]
  },
  {
   "cell_type": "code",
   "execution_count": 4,
   "metadata": {},
   "outputs": [
    {
     "data": {
      "text/plain": [
       "156"
      ]
     },
     "execution_count": 4,
     "metadata": {},
     "output_type": "execute_result"
    }
   ],
   "source": [
    "checking_passport(puzzle, checking_value=True)"
   ]
  }
 ],
 "metadata": {
  "kernelspec": {
   "display_name": "Python 3.8.1 64-bit",
   "language": "python",
   "name": "python38164bit9d37f5cb24044b1a867c869d5e8fdf89"
  },
  "language_info": {
   "codemirror_mode": {
    "name": "ipython",
    "version": 3
   },
   "file_extension": ".py",
   "mimetype": "text/x-python",
   "name": "python",
   "nbconvert_exporter": "python",
   "pygments_lexer": "ipython3",
   "version": "3.8.5"
  }
 },
 "nbformat": 4,
 "nbformat_minor": 4
}
